{
 "cells": [
  {
   "cell_type": "code",
   "execution_count": null,
   "id": "4122f6c7-22f7-4118-b04b-3030d8f17ca1",
   "metadata": {
    "tags": []
   },
   "outputs": [],
   "source": [
    "import os\n",
    "from metadata_mongo_model import *\n",
    "from datetime import datetime\n",
    "import global_variables as g\n",
    "g.init()\n",
    "\n",
    "connect('tika_metadata')\n",
    "\n",
    "now = datetime.now()\n",
    " \n",
    "#print(\"now =\", now)\n",
    "\n",
    "# dd/mm/YY H:M:S\n",
    "dt_string = now.strftime(\"%d/%m/%Y %H:%M:%S\")\n",
    "#print(\"date and time =\", dt_string)"
   ]
  },
  {
   "cell_type": "code",
   "execution_count": null,
   "id": "690a7f11-9869-4236-b488-f645a01ffe2d",
   "metadata": {},
   "outputs": [],
   "source": [
    "#if g.DEBUG_OL >= 1:\n",
    "print(os.getcwd(),__name__,'imported')"
   ]
  }
 ],
 "metadata": {
  "kernelspec": {
   "display_name": "Python 3 (ipykernel)",
   "language": "python",
   "name": "python3"
  },
  "language_info": {
   "codemirror_mode": {
    "name": "ipython",
    "version": 3
   },
   "file_extension": ".py",
   "mimetype": "text/x-python",
   "name": "python",
   "nbconvert_exporter": "python",
   "pygments_lexer": "ipython3",
   "version": "3.11.2"
  }
 },
 "nbformat": 4,
 "nbformat_minor": 5
}
