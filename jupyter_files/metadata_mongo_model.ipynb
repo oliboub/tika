{
 "cells": [
  {
   "cell_type": "markdown",
   "id": "114667bf-6ff0-4556-a3e2-56cdeae4bb90",
   "metadata": {},
   "source": [
    "## tika_metadatas mongo_model"
   ]
  },
  {
   "cell_type": "code",
   "execution_count": 1,
   "id": "0f5349cc-97d6-4655-b900-66d5b170fa57",
   "metadata": {},
   "outputs": [],
   "source": [
    "import os\n",
    "from mongoengine import *\n",
    "from datetime import datetime"
   ]
  },
  {
   "cell_type": "code",
   "execution_count": 2,
   "id": "12be88b3-63e8-4292-8558-b42e19c1d3b5",
   "metadata": {},
   "outputs": [],
   "source": [
    "import global_variables as g\n",
    "g.init()"
   ]
  },
  {
   "cell_type": "code",
   "execution_count": null,
   "id": "36af1277-e7f8-4ea2-a6ea-34f2ddb5ec9c",
   "metadata": {},
   "outputs": [],
   "source": [
    "class files(Document):\n",
    "#    id = SequenceField(primary_key=True)\n",
    "#    fileid = IntField(required=True, unique=True)\n",
    "    fileid = SequenceField()\n",
    "    server = StringField(required=True)\n",
    "    fqdn = StringField(required=True)\n",
    "    filename = StringField(required=True)\n",
    "    filedirectory = StringField(required=True)\n",
    "    inode = IntField(required=True)\n",
    "    category = StringField()\n",
    "    CreationDate = DateTimeField()"
   ]
  },
  {
   "cell_type": "code",
   "execution_count": null,
   "id": "9d0bee14-3064-4423-b3a2-edb09fb3b679",
   "metadata": {},
   "outputs": [],
   "source": [
    "class metadata(Document):\n",
    "    metadataid=SequenceField()\n",
    "    metadata = StringField(required=True)\n",
    "    value = StringField(required=True)\n",
    "    language=StringField()\n",
    "    CreationDate = DateTimeField()"
   ]
  },
  {
   "cell_type": "code",
   "execution_count": null,
   "id": "a79926f6-b26c-4b18-8ffc-b746b4c11f15",
   "metadata": {},
   "outputs": [],
   "source": [
    "class links(Document):\n",
    "    linkid = SequenceField()\n",
    "    fileid=IntField(required=True)\n",
    "    metadataid = IntField(required=True)\n",
    "    CreationDate = DateTimeField()"
   ]
  },
  {
   "cell_type": "code",
   "execution_count": null,
   "id": "f90d52e2-9312-42bd-a1c4-2d923c6d5953",
   "metadata": {},
   "outputs": [],
   "source": [
    "#if g.DEBUG_OL >= 1:\n",
    "print(os.getcwd(),__name__,'imported')"
   ]
  }
 ],
 "metadata": {
  "kernelspec": {
   "display_name": "Python 3 (ipykernel)",
   "language": "python",
   "name": "python3"
  },
  "language_info": {
   "codemirror_mode": {
    "name": "ipython",
    "version": 3
   },
   "file_extension": ".py",
   "mimetype": "text/x-python",
   "name": "python",
   "nbconvert_exporter": "python",
   "pygments_lexer": "ipython3",
   "version": "3.11.2"
  }
 },
 "nbformat": 4,
 "nbformat_minor": 5
}
