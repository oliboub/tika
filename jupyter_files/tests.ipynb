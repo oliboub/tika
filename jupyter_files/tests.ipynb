{
 "cells": [
  {
   "cell_type": "code",
   "execution_count": 12,
   "id": "cfeea16b-d0d0-44f1-91ed-bb5b9a0b2da6",
   "metadata": {
    "tags": []
   },
   "outputs": [
    {
     "name": "stdout",
     "output_type": "stream",
     "text": [
      "['test2.jpg', 'test5.odt', 'test1.png', 'test3.jpg', 'test13.odt', 'test12.odt', 'test9.tiff', 'test7.odt', 'test6.odt', 'test10.tiff', 'test4.tiff', 'test7.pdf', 'test10.pdf', 'test11.docx']\n"
     ]
    }
   ],
   "source": [
    "import os\n",
    "\n",
    "category=\"Engineering\"\n",
    "dirlist = os.listdir(category)\n",
    "\n",
    "print(dirlist)"
   ]
  },
  {
   "cell_type": "code",
   "execution_count": 50,
   "id": "2c60be78-f0dd-400f-8399-11d2b44ed715",
   "metadata": {
    "tags": []
   },
   "outputs": [
    {
     "name": "stdout",
     "output_type": "stream",
     "text": [
      "foo\tbar\t\tspam:Aircraft: A320, comute\n",
      "['foo', 'bar', '', 'spam', 'Aircraft', 'A320', 'comute']\n"
     ]
    }
   ],
   "source": [
    "import re\n",
    "strs = \"foo\\tbar\\t\\tspam:Aircraft: A320, comute\"\n",
    "print(strs)\n",
    "#re.split(r'[: \\t+]', strs)\n",
    "my_str= strs.replace('\\t', ' ').replace(': ',' ').replace(':',' ').replace(', ',' ').replace(',',' ').split(' ')\n",
    "print(my_str)"
   ]
  },
  {
   "cell_type": "code",
   "execution_count": 52,
   "id": "59f99251-d9ac-4cbc-b45d-243f9b229422",
   "metadata": {
    "tags": []
   },
   "outputs": [
    {
     "name": "stdout",
     "output_type": "stream",
     "text": [
      "A320\n"
     ]
    }
   ],
   "source": [
    "aa=my_str.index('Aircraft')\n",
    "#print(aa)\n",
    "print (my_str[int(aa)+1])\n"
   ]
  },
  {
   "cell_type": "code",
   "execution_count": 53,
   "id": "f65cd30b-5219-48b1-86a3-5aa4ecee4cbc",
   "metadata": {
    "tags": []
   },
   "outputs": [
    {
     "name": "stdout",
     "output_type": "stream",
     "text": [
      "['Part', 'Number', '299999']\n"
     ]
    }
   ],
   "source": [
    "\n",
    "liste=['Part', 'Number', '299999']\n",
    "print(liste)"
   ]
  },
  {
   "cell_type": "code",
   "execution_count": 54,
   "id": "b8681b9d-15de-4595-bf5c-bcdd046c6f7c",
   "metadata": {
    "tags": []
   },
   "outputs": [
    {
     "name": "stdout",
     "output_type": "stream",
     "text": [
      "1\n"
     ]
    }
   ],
   "source": [
    "print(liste.index(\"Number\"))"
   ]
  },
  {
   "cell_type": "code",
   "execution_count": 1,
   "id": "807b6231-cdea-4700-b5a8-62d7dacdf6f3",
   "metadata": {},
   "outputs": [
    {
     "name": "stdout",
     "output_type": "stream",
     "text": [
      "/media/olivier/Donnees/Documents/Formations/tika/jupyter_files metadata_mongo_model imported\n"
     ]
    }
   ],
   "source": [
    "import os\n",
    "import socket\n",
    "import re\n",
    "from tika import parser\n",
    "from metadata_mongo_model import *\n",
    "from datetime import datetime"
   ]
  },
  {
   "cell_type": "code",
   "execution_count": 2,
   "id": "7f33283d-0548-4212-a84e-c5ddae33f775",
   "metadata": {},
   "outputs": [
    {
     "name": "stdout",
     "output_type": "stream",
     "text": [
      "pcobubuntu pcobubuntu\n",
      "['test2.jpg', 'test5.odt', 'test1.png', 'test3.jpg', 'test13.odt', 'test12.odt', 'test9.tiff', 'test7.odt', 'test6.odt', 'test10.tiff', 'test7.pdf', 'test10.pdf', 'test11.docx']\n"
     ]
    }
   ],
   "source": [
    "\n",
    "connect('tika_metadata')\n",
    "\n",
    "now = datetime.now()\n",
    " \n",
    "#print(\"now =\", now)\n",
    "\n",
    "# dd/mm/YY H:M:S\n",
    "dt_string = now.strftime(\"%d/%m/%Y %H:%M:%S\")\n",
    "#print(\"date and time =\", dt_string)\n",
    "\n",
    "host=socket.gethostname()\n",
    "fqdn = socket.getfqdn()\n",
    "if g.DEBUG_OL >= 1:\n",
    "    print(host,fqdn)\n",
    "category=\"Engineering\"\n",
    "\n",
    "dirlist = os.listdir(\"../\"+category)\n",
    "\n",
    "if g.DEBUG_OL >= 1:\n",
    "    print(dirlist)"
   ]
  },
  {
   "cell_type": "code",
   "execution_count": 35,
   "id": "fc1c6ee9-dacd-49b1-aef1-2a8a63a9cdee",
   "metadata": {},
   "outputs": [
    {
     "name": "stdout",
     "output_type": "stream",
     "text": [
      "index 0 \tmetadata: aircraft \tQtt: 3\n",
      "[['aircraft', 3]]\n",
      "index 1 \tmetadata: part \tQtt: 12\n",
      "[['aircraft', 3], ['part', 12]]\n",
      "index 2 \tmetadata: title \tQtt: 1\n",
      "[['aircraft', 3], ['part', 12], ['title', 1]]\n",
      "[['part', 12], ['aircraft', 3], ['title', 1]]\n",
      "['part', 'aircraft', 'title']\n"
     ]
    }
   ],
   "source": [
    "## check reverse orders of max to min metadatas quantity\n",
    "\n",
    "from operator import itemgetter\n",
    "createdmetadata=metadata.objects().distinct(\"metadata\")\n",
    "\n",
    "items=len(createdmetadata)\n",
    "#print(items)\n",
    "tempval=[]\n",
    "metadatas=[]\n",
    "for i in range(items):\n",
    "    couteur=metadata.objects(metadata=createdmetadata[i]).count()\n",
    "    print(\"index\",i,\"\\tmetadata:\",createdmetadata[i], \"\\tQtt:\", couteur)\n",
    "    tempval=[createdmetadata[i],couteur]\n",
    "    metadatas.append(tempval)\n",
    "    print(metadatas)\n",
    "aa=sorted(metadatas, key=itemgetter(1),reverse=True)\n",
    "print(aa)\n",
    "d2 = [valeur[0] for valeur in aa]\n",
    "print(d2)"
   ]
  },
  {
   "cell_type": "code",
   "execution_count": 19,
   "id": "399a6253-117f-4c62-a892-19be72ae0994",
   "metadata": {},
   "outputs": [
    {
     "name": "stdout",
     "output_type": "stream",
     "text": [
      "[7, 16]\n",
      "7\n"
     ]
    }
   ],
   "source": [
    "work=['bande', 'l)', 'et', '', 'reposent', 'sur', 'des', 'technologies', 'radio', 'surannées.', 'la', 'raison', 'en', 'est', 'que', 'l’évolution', 'technologies','de', 'ces', '']\n",
    "\n",
    "key=\"techno\"\n",
    "\n",
    "aa = [i for i, elem in enumerate(work) if key in elem]\n",
    "#aa=work.index(key,0,len(key))\n",
    "print(aa)\n",
    "print(aa[0])"
   ]
  },
  {
   "cell_type": "code",
   "execution_count": null,
   "id": "7ddc81d6-4c70-4e8d-a1b3-26ca26172e69",
   "metadata": {},
   "outputs": [],
   "source": []
  }
 ],
 "metadata": {
  "kernelspec": {
   "display_name": "Python 3 (ipykernel)",
   "language": "python",
   "name": "python3"
  },
  "language_info": {
   "codemirror_mode": {
    "name": "ipython",
    "version": 3
   },
   "file_extension": ".py",
   "mimetype": "text/x-python",
   "name": "python",
   "nbconvert_exporter": "python",
   "pygments_lexer": "ipython3",
   "version": "3.11.2"
  }
 },
 "nbformat": 4,
 "nbformat_minor": 5
}
