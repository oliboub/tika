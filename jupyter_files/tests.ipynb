{
 "cells": [
  {
   "cell_type": "code",
   "execution_count": 12,
   "id": "cfeea16b-d0d0-44f1-91ed-bb5b9a0b2da6",
   "metadata": {
    "tags": []
   },
   "outputs": [
    {
     "name": "stdout",
     "output_type": "stream",
     "text": [
      "['test2.jpg', 'test5.odt', 'test1.png', 'test3.jpg', 'test13.odt', 'test12.odt', 'test9.tiff', 'test7.odt', 'test6.odt', 'test10.tiff', 'test4.tiff', 'test7.pdf', 'test10.pdf', 'test11.docx']\n"
     ]
    }
   ],
   "source": [
    "import os\n",
    "\n",
    "category=\"Engineering\"\n",
    "dirlist = os.listdir(category)\n",
    "\n",
    "print(dirlist)"
   ]
  },
  {
   "cell_type": "code",
   "execution_count": 50,
   "id": "2c60be78-f0dd-400f-8399-11d2b44ed715",
   "metadata": {
    "tags": []
   },
   "outputs": [
    {
     "name": "stdout",
     "output_type": "stream",
     "text": [
      "foo\tbar\t\tspam:Aircraft: A320, comute\n",
      "['foo', 'bar', '', 'spam', 'Aircraft', 'A320', 'comute']\n"
     ]
    }
   ],
   "source": [
    "import re\n",
    "strs = \"foo\\tbar\\t\\tspam:Aircraft: A320, comute\"\n",
    "print(strs)\n",
    "#re.split(r'[: \\t+]', strs)\n",
    "my_str= strs.replace('\\t', ' ').replace(': ',' ').replace(':',' ').replace(', ',' ').replace(',',' ').split(' ')\n",
    "print(my_str)"
   ]
  },
  {
   "cell_type": "code",
   "execution_count": 52,
   "id": "59f99251-d9ac-4cbc-b45d-243f9b229422",
   "metadata": {
    "tags": []
   },
   "outputs": [
    {
     "name": "stdout",
     "output_type": "stream",
     "text": [
      "A320\n"
     ]
    }
   ],
   "source": [
    "aa=my_str.index('Aircraft')\n",
    "#print(aa)\n",
    "print (my_str[int(aa)+1])\n"
   ]
  },
  {
   "cell_type": "code",
   "execution_count": 53,
   "id": "f65cd30b-5219-48b1-86a3-5aa4ecee4cbc",
   "metadata": {
    "tags": []
   },
   "outputs": [
    {
     "name": "stdout",
     "output_type": "stream",
     "text": [
      "['Part', 'Number', '299999']\n"
     ]
    }
   ],
   "source": [
    "\n",
    "liste=['Part', 'Number', '299999']\n",
    "print(liste)"
   ]
  },
  {
   "cell_type": "code",
   "execution_count": 54,
   "id": "b8681b9d-15de-4595-bf5c-bcdd046c6f7c",
   "metadata": {
    "tags": []
   },
   "outputs": [
    {
     "name": "stdout",
     "output_type": "stream",
     "text": [
      "1\n"
     ]
    }
   ],
   "source": [
    "print(liste.index(\"Number\"))"
   ]
  },
  {
   "cell_type": "code",
   "execution_count": null,
   "id": "807b6231-cdea-4700-b5a8-62d7dacdf6f3",
   "metadata": {},
   "outputs": [],
   "source": []
  }
 ],
 "metadata": {
  "kernelspec": {
   "display_name": "Python 3 (ipykernel)",
   "language": "python",
   "name": "python3"
  },
  "language_info": {
   "codemirror_mode": {
    "name": "ipython",
    "version": 3
   },
   "file_extension": ".py",
   "mimetype": "text/x-python",
   "name": "python",
   "nbconvert_exporter": "python",
   "pygments_lexer": "ipython3",
   "version": "3.11.2"
  }
 },
 "nbformat": 4,
 "nbformat_minor": 5
}
