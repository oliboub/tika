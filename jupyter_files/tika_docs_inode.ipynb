{
 "cells": [
  {
   "cell_type": "markdown",
   "id": "4562c432-6ee5-4425-9267-b480439de483",
   "metadata": {},
   "source": [
    "# test tika to convert documents in directory: documents\n",
    "- First prepare docs.txt by doing in linux:\n",
    "    > ls documents > docs.txt"
   ]
  },
  {
   "cell_type": "code",
   "execution_count": 1,
   "id": "fe66766c-4329-4c9e-b9e3-a5409f54cb85",
   "metadata": {
    "tags": []
   },
   "outputs": [],
   "source": [
    "import glob\n",
    "import os\n",
    "from tika import parser"
   ]
  },
  {
   "cell_type": "code",
   "execution_count": 2,
   "id": "f88b9746-d126-4f42-8dc2-ee9a3a7c5e72",
   "metadata": {
    "tags": []
   },
   "outputs": [
    {
     "name": "stdout",
     "output_type": "stream",
     "text": [
      "test10.pdf\n",
      "test10.tiff\n",
      "test11.docx\n",
      "test12.odt\n",
      "test1.png\n",
      "test2.jpg\n",
      "test3.jpg\n",
      "test4.tiff\n",
      "test5.odt\n",
      "test6.odt\n",
      "test7.pdf\n",
      "test9.tiff\n",
      "\n"
     ]
    }
   ],
   "source": [
    "f = open(\"docs.txt\",\"r\").read()\n",
    "print(f)"
   ]
  },
  {
   "cell_type": "code",
   "execution_count": 3,
   "id": "c2c0d0d6-3622-413f-9b40-025caa412623",
   "metadata": {
    "tags": []
   },
   "outputs": [
    {
     "name": "stdout",
     "output_type": "stream",
     "text": [
      "['test10.pdf', 'test10.tiff', 'test11.docx', 'test12.odt', 'test1.png', 'test2.jpg', 'test3.jpg', 'test4.tiff', 'test5.odt', 'test6.odt', 'test7.pdf', 'test9.tiff']\n"
     ]
    }
   ],
   "source": [
    "rows = f.split('\\n')\n",
    "print(rows[0:-1])"
   ]
  },
  {
   "cell_type": "code",
   "execution_count": 4,
   "id": "224417ce-e3b9-49f6-a7d0-e2be533cc980",
   "metadata": {
    "tags": []
   },
   "outputs": [
    {
     "name": "stdout",
     "output_type": "stream",
     "text": [
      "-----------------------\n",
      " test10.pdf\n",
      "113787715 documents/test10.pdf\n",
      "-----------------------\n",
      " test10.tiff\n",
      "113787709 documents/test10.tiff\n",
      "-----------------------\n",
      " test11.docx\n",
      "113787708 documents/test11.docx\n",
      "-----------------------\n",
      " test12.odt\n",
      "113787713 documents/test12.odt\n",
      "-----------------------\n",
      " test1.png\n",
      "113787698 documents/test1.png\n",
      "-----------------------\n",
      " test2.jpg\n",
      "113787699 documents/test2.jpg\n",
      "-----------------------\n",
      " test3.jpg\n",
      "113787700 documents/test3.jpg\n",
      "-----------------------\n",
      " test4.tiff\n",
      "113787701 documents/test4.tiff\n",
      "-----------------------\n",
      " test5.odt\n",
      "113787705 documents/test5.odt\n",
      "-----------------------\n",
      " test6.odt\n",
      "113787707 documents/test6.odt\n",
      "-----------------------\n",
      " test7.pdf\n",
      "113787706 documents/test7.pdf\n",
      "-----------------------\n",
      " test9.tiff\n",
      "113787704 documents/test9.tiff\n"
     ]
    }
   ],
   "source": [
    "for i in rows[0:-1]:\n",
    "    print(\"-----------------------\\n\",i)\n",
    "    aa=\"documents/\"+i\n",
    "    print(os.stat(aa).st_ino, aa)"
   ]
  },
  {
   "cell_type": "raw",
   "id": "4b6f5cb5-86e9-4690-a07e-476d455b5424",
   "metadata": {
    "tags": []
   },
   "source": [
    "for i in rows[0:-1]:\n",
    "    xx=[]\n",
    "    str_match=[]\n",
    "#    print(\"-----------------------\\n\",i)\n",
    "    aa=\"documents/\"+i\n",
    "    print(aa)\n",
    "    parsed_file = parser.from_file(aa)\n",
    "    my_content = parsed_file['content']\n",
    "    xx = my_content.split('\\n')\n",
    "#    print(xx[0:-1])\n",
    "    Aircraft=\"\"\n",
    "    PN=\"\"\n",
    "    Aircraft = [s for s in xx if \"Aircraft\" in s]\n",
    "    Part = [s for s in xx if \"Part\" in s] \n",
    "#    print(Aircraft)\n",
    "    if Aircraft:\n",
    "        AC=Aircraft[0]\n",
    "        AC1=AC.split(\":\")\n",
    "    if Part:\n",
    "        PN=Part[0]\n",
    "        PN1 = PN.split(\":\")\n",
    "    print(i,\"\\tAircraft:\",AC1[1].strip(),\" - Part Number:\",PN1[1].strip())\n",
    "#    print(str_match)\n",
    "#    print(my_content)"
   ]
  },
  {
   "cell_type": "code",
   "execution_count": null,
   "id": "68b87d86-232f-4477-9aea-6f0c718e094f",
   "metadata": {},
   "outputs": [],
   "source": []
  }
 ],
 "metadata": {
  "kernelspec": {
   "display_name": "Python 3 (ipykernel)",
   "language": "python",
   "name": "python3"
  },
  "language_info": {
   "codemirror_mode": {
    "name": "ipython",
    "version": 3
   },
   "file_extension": ".py",
   "mimetype": "text/x-python",
   "name": "python",
   "nbconvert_exporter": "python",
   "pygments_lexer": "ipython3",
   "version": "3.11.2"
  }
 },
 "nbformat": 4,
 "nbformat_minor": 5
}
